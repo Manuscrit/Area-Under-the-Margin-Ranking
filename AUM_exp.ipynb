{
  "nbformat": 4,
  "nbformat_minor": 0,
  "metadata": {
    "colab": {
      "name": "AUM.ipynb",
      "provenance": [],
      "collapsed_sections": []
    },
    "kernelspec": {
      "name": "python3",
      "display_name": "Python 3"
    },
    "accelerator": "GPU"
  },
  "cells": [
    {
      "cell_type": "markdown",
      "metadata": {
        "id": "vuG-mvwArzRJ",
        "colab_type": "text"
      },
      "source": [
        "Do not forget to setup GPU accelerator in `Runtime -> Change runtime type -> Hardware accelerator : GPU`"
      ]
    },
    {
      "cell_type": "code",
      "metadata": {
        "id": "CR7R4X5mkhuW",
        "colab_type": "code",
        "outputId": "c1976f43-288f-42e9-8cae-3707aa315c5f",
        "colab": {
          "base_uri": "https://localhost:8080/",
          "height": 901
        }
      },
      "source": [
        "! nvidia-smi\n",
        "! lscpu\n",
        "! pip install tensorboardX\n",
        "! pip install loguru"
      ],
      "execution_count": 1,
      "outputs": [
        {
          "output_type": "stream",
          "text": [
            "Thu Feb  6 10:41:32 2020       \n",
            "+-----------------------------------------------------------------------------+\n",
            "| NVIDIA-SMI 440.48.02    Driver Version: 418.67       CUDA Version: 10.1     |\n",
            "|-------------------------------+----------------------+----------------------+\n",
            "| GPU  Name        Persistence-M| Bus-Id        Disp.A | Volatile Uncorr. ECC |\n",
            "| Fan  Temp  Perf  Pwr:Usage/Cap|         Memory-Usage | GPU-Util  Compute M. |\n",
            "|===============================+======================+======================|\n",
            "|   0  Tesla P100-PCIE...  Off  | 00000000:00:04.0 Off |                    0 |\n",
            "| N/A   41C    P0    28W / 250W |      0MiB / 16280MiB |      0%      Default |\n",
            "+-------------------------------+----------------------+----------------------+\n",
            "                                                                               \n",
            "+-----------------------------------------------------------------------------+\n",
            "| Processes:                                                       GPU Memory |\n",
            "|  GPU       PID   Type   Process name                             Usage      |\n",
            "|=============================================================================|\n",
            "|  No running processes found                                                 |\n",
            "+-----------------------------------------------------------------------------+\n",
            "Architecture:        x86_64\n",
            "CPU op-mode(s):      32-bit, 64-bit\n",
            "Byte Order:          Little Endian\n",
            "CPU(s):              2\n",
            "On-line CPU(s) list: 0,1\n",
            "Thread(s) per core:  2\n",
            "Core(s) per socket:  1\n",
            "Socket(s):           1\n",
            "NUMA node(s):        1\n",
            "Vendor ID:           GenuineIntel\n",
            "CPU family:          6\n",
            "Model:               63\n",
            "Model name:          Intel(R) Xeon(R) CPU @ 2.30GHz\n",
            "Stepping:            0\n",
            "CPU MHz:             2300.000\n",
            "BogoMIPS:            4600.00\n",
            "Hypervisor vendor:   KVM\n",
            "Virtualization type: full\n",
            "L1d cache:           32K\n",
            "L1i cache:           32K\n",
            "L2 cache:            256K\n",
            "L3 cache:            46080K\n",
            "NUMA node0 CPU(s):   0,1\n",
            "Flags:               fpu vme de pse tsc msr pae mce cx8 apic sep mtrr pge mca cmov pat pse36 clflush mmx fxsr sse sse2 ss ht syscall nx pdpe1gb rdtscp lm constant_tsc rep_good nopl xtopology nonstop_tsc cpuid tsc_known_freq pni pclmulqdq ssse3 fma cx16 pcid sse4_1 sse4_2 x2apic movbe popcnt aes xsave avx f16c rdrand hypervisor lahf_lm abm invpcid_single ssbd ibrs ibpb stibp fsgsbase tsc_adjust bmi1 avx2 smep bmi2 erms invpcid xsaveopt arat md_clear arch_capabilities\n",
            "Requirement already satisfied: tensorboardX in /usr/local/lib/python3.6/dist-packages (2.0)\n",
            "Requirement already satisfied: numpy in /usr/local/lib/python3.6/dist-packages (from tensorboardX) (1.17.5)\n",
            "Requirement already satisfied: protobuf>=3.8.0 in /usr/local/lib/python3.6/dist-packages (from tensorboardX) (3.10.0)\n",
            "Requirement already satisfied: six in /usr/local/lib/python3.6/dist-packages (from tensorboardX) (1.12.0)\n",
            "Requirement already satisfied: setuptools in /usr/local/lib/python3.6/dist-packages (from protobuf>=3.8.0->tensorboardX) (45.1.0)\n",
            "Requirement already satisfied: loguru in /usr/local/lib/python3.6/dist-packages (0.4.1)\n",
            "Requirement already satisfied: aiocontextvars>=0.2.0; python_version < \"3.7\" in /usr/local/lib/python3.6/dist-packages (from loguru) (0.2.2)\n",
            "Requirement already satisfied: contextvars==2.4; python_version < \"3.7\" in /usr/local/lib/python3.6/dist-packages (from aiocontextvars>=0.2.0; python_version < \"3.7\"->loguru) (2.4)\n",
            "Requirement already satisfied: immutables>=0.9 in /usr/local/lib/python3.6/dist-packages (from contextvars==2.4; python_version < \"3.7\"->aiocontextvars>=0.2.0; python_version < \"3.7\"->loguru) (0.11)\n"
          ],
          "name": "stdout"
        }
      ]
    },
    {
      "cell_type": "markdown",
      "metadata": {
        "id": "TBOPbIC8hGp2",
        "colab_type": "text"
      },
      "source": [
        "## Define model & hyperparameters"
      ]
    },
    {
      "cell_type": "code",
      "metadata": {
        "colab_type": "code",
        "id": "GGPhckn6b4KL",
        "colab": {}
      },
      "source": [
        "import tqdm\n",
        "import time\n",
        "from loguru import logger\n",
        "import pprint\n",
        "\n",
        "import torch\n",
        "import torch.nn as nn\n",
        "import torch.optim as optim\n",
        "import torch.optim.lr_scheduler as lrs\n",
        "from torch.utils.data import DataLoader\n",
        "\n",
        "import torchvision\n",
        "from torchvision.datasets.cifar import CIFAR10\n",
        "\n",
        "from torchvision.models.mobilenet import mobilenet_v2\n",
        "from torchvision.models.resnet import resnet18\n",
        "from torchvision.transforms import Compose, ToTensor, RandomCrop, RandomHorizontalFlip, Pad, Normalize, ColorJitter, Resize\n",
        "\n",
        "torch.__version__, torchvision.__version__ \n",
        "\n",
        "from tensorboardX import SummaryWriter\n",
        "from datetime import datetime\n",
        "\n",
        "import random\n",
        "import numpy as np"
      ],
      "execution_count": 0,
      "outputs": []
    },
    {
      "cell_type": "code",
      "metadata": {
        "id": "OhoeDNYts7qT",
        "colab_type": "code",
        "colab": {}
      },
      "source": [
        "import math\n",
        "\n",
        "class RandomErasingPIL(object):\n",
        "    '''\n",
        "    Class that performs Random Erasing in Random Erasing Data Augmentation by Zhong et al.\n",
        "    -------------------------------------------------------------------------------------\n",
        "    probability: The probability that the operation will be performed.\n",
        "    sl: min erasing area\n",
        "    sh: max erasing area\n",
        "    r1: min aspect ratio\n",
        "    mean: erasing value\n",
        "    -------------------------------------------------------------------------------------\n",
        "    '''\n",
        "\n",
        "    def __init__(self, probability=1, sl=0.05, sh=0.20, r1=1):\n",
        "        self.probability = probability\n",
        "        self.sl = sl\n",
        "        self.sh = sh\n",
        "        self.r1 = r1\n",
        "\n",
        "    def __call__(self, img):\n",
        "\n",
        "        if random.uniform(0, 1) > self.probability:\n",
        "            return img\n",
        "\n",
        "        for attempt in range(100):\n",
        "            area = img.size[0] * img.size[1]\n",
        "\n",
        "            target_area = random.uniform(self.sl, self.sh) * area\n",
        "            aspect_ratio = random.uniform(self.r1, 1 / self.r1)\n",
        "\n",
        "            h = int(round(math.sqrt(target_area * aspect_ratio)))\n",
        "            w = int(round(math.sqrt(target_area / aspect_ratio)))\n",
        "\n",
        "            if w < img.size[1] and h < img.size[0]:\n",
        "                img_return = img.copy()\n",
        "                pixels = img_return.load()\n",
        "                x1 = random.randint(0, img.size[0] - h)\n",
        "                y1 = random.randint(0, img.size[1] - w)\n",
        "\n",
        "                if img_return.mode == \"L\" or img_return.mode == \"I\" :\n",
        "                    for i in range(x1, x1 + h):  # for every col:\n",
        "                        for j in range(y1, y1 + w):  # For every row\n",
        "                            pixels[i, j] = (0)\n",
        "                else :\n",
        "                    for i in range(x1, x1 + h):  # for every col:\n",
        "                        for j in range(y1, y1 + w):  # For every row\n",
        "                            pixels[i, j] = (0, 0, 0)\n",
        "                return img_return\n",
        "\n",
        "        return img\n"
      ],
      "execution_count": 0,
      "outputs": []
    },
    {
      "cell_type": "code",
      "metadata": {
        "id": "iKV_gulz8C0i",
        "colab_type": "code",
        "colab": {}
      },
      "source": [
        "import random\n",
        "\n",
        "import matplotlib.pyplot as plt\n",
        "import torch\n",
        "from torch.utils.data import Dataset\n",
        "\n",
        "\n",
        "class ConstantTargetDataset(Dataset):\n",
        "    \"\"\"\n",
        "    Dataset returning a given target for all or only the choosen indexes of the given dataset\n",
        "    \"\"\"\n",
        "\n",
        "    def __init__(self, dataset, target=False, idx_filter=[]):\n",
        "        self.dataset = dataset\n",
        "        self.target = target\n",
        "        self.counter = 0\n",
        "        self.idx_filter = idx_filter\n",
        "\n",
        "    def __getitem__(self, item):\n",
        "        tile, target = self.dataset[item]\n",
        "        if item in self.idx_filter:\n",
        "            return tile, self.target\n",
        "        else:\n",
        "            return tile, target\n",
        "\n",
        "    def __len__(self):\n",
        "        return len(self.dataset)\n",
        "\n",
        "\n",
        "class AreaUnderTheMarginRanking():\n",
        "    \"\"\"\n",
        "    Implementation of the paper Identifying Mislabeled Data using the Area Under the Margin Ranking: https://arxiv.org/pdf/2001.10528v2.pdf\n",
        "\n",
        "    Currently the used dataset must not shuffle between epochs !\n",
        "    \"\"\"\n",
        "\n",
        "    # TODO try to use matrix operations\n",
        "    # TODO manage the case of dataset with shuffling between epochs\n",
        "\n",
        "    def __init__(self):\n",
        "        # hist_delta_AUM_current_epoch dimensions: [n_sample, 2 (from in_logit & max(out_logits))]\n",
        "        self.hist_delta_AUM_current_epoch = torch.zeros(size=(0, 2))\n",
        "        # hist_delta_AUM dimensions: [n_epoch, n_sample, in_logit & max(out_logits)]\n",
        "        self.hist_delta_AUM = torch.zeros(size=(0, 0, 2))\n",
        "        self.reference_sample_idx = []\n",
        "\n",
        "    def accumulate(self, batch_logits, batch_ids, batch_targets):\n",
        "        \"\"\" To be called after batch prediction\"\"\"\n",
        "        for img_logit, img_id, img_target in zip(batch_logits.split([1] * len(batch_logits), dim=0),\n",
        "                                                 batch_ids.split([1] * len(batch_logits), dim=0),\n",
        "                                                 batch_targets.split([1] * len(batch_logits), dim=0)):\n",
        "            img_logit = img_logit.squeeze(dim=0)\n",
        "            target_logit = img_logit[img_target]\n",
        "            if img_target < len(img_logit) - 1:\n",
        "                notarget_logits = torch.cat([img_logit[:img_target], img_logit[img_target + 1:]], dim=0)\n",
        "            else:\n",
        "                notarget_logits = img_logit[:img_target]\n",
        "            notarget_logits = notarget_logits.max()\n",
        "            self.hist_delta_AUM_current_epoch = torch.cat(\n",
        "                [self.hist_delta_AUM_current_epoch, torch.tensor([[target_logit, notarget_logits]])], dim=0)\n",
        "\n",
        "    def accumulate_epoch(self):\n",
        "        \"\"\" To be called at the end of each epoch\"\"\"\n",
        "        if len(self.hist_delta_AUM) == 0:\n",
        "            self.hist_delta_AUM = self.hist_delta_AUM_current_epoch.unsqueeze(dim=0)\n",
        "        else:\n",
        "            self.hist_delta_AUM = torch.cat([self.hist_delta_AUM, self.hist_delta_AUM_current_epoch.unsqueeze(dim=0)],\n",
        "                                            dim=0)\n",
        "        self.hist_delta_AUM_current_epoch = torch.zeros(size=(0, 2))\n",
        "\n",
        "    def get_reference_aum_threshold(self, percentile=0.99):\n",
        "        reference_aum = self.hist_delta_AUM[:, self.reference_sample_idx, :]  # => [n_epoch, n_sample, in_logit & max(\n",
        "        # out_logits)]\n",
        "        reference_aum = torch.tensor(reference_aum)\n",
        "        reference_aum = reference_aum[..., 0] - reference_aum[..., 1]  # => [n_epoch, n_sample]\n",
        "        reference_aum = reference_aum.mean(dim=0)\n",
        "        reference_aum, _ = reference_aum.sort(dim=0, descending=False)  # => [n_sample]\n",
        "        aum_threshold_at_percentile = reference_aum[int(len(reference_aum) * percentile)]\n",
        "        return aum_threshold_at_percentile\n",
        "\n",
        "    def add_reference_class_to_ds(self, dataset, n_class, exclusion_idx=None):\n",
        "        \"\"\"\n",
        "        Will modify a given dataset by adding the reference class with only mislabeled data.\n",
        "        Original targets of the dataset must be [0...n_class-1].\n",
        "        Currently dataset must not shuffle between epochs !\n",
        "\n",
        "        :param dataset: Dataset to be modified\n",
        "        :param n_class: Original number of class in Dataset (original targets must be [0...n_class-1])\n",
        "        :param exclusion_idx: Do not add these idx in the reference class\n",
        "        :return: new dataset with the added reference class\n",
        "        \"\"\"\n",
        "        if exclusion_idx is None:\n",
        "            exclusion_idx = self.reference_sample_idx\n",
        "        n_reference_sample = int(len(dataset) / (n_class + 1))\n",
        "        print(\"select n_reference_sample\", n_reference_sample)\n",
        "        self.reference_sample_idx = random.sample(population=range(len(dataset)), k=n_reference_sample)\n",
        "\n",
        "        new = []\n",
        "        for el in self.reference_sample_idx:\n",
        "            if el in exclusion_idx or el in new:\n",
        "                done = False\n",
        "                new_el = el\n",
        "                while not done:\n",
        "                    new_el += 1\n",
        "                    if new_el not in new:\n",
        "                        if new_el < len(dataset):\n",
        "                            done = True\n",
        "                            new.append(el)\n",
        "                        else:\n",
        "                            new_el = 0\n",
        "            else:\n",
        "                new.append(el)\n",
        "        assert len(set(new)) == len(new)\n",
        "\n",
        "        dataset = ConstantTargetDataset(dataset,\n",
        "                                        target=(n_class - 1) + 1,\n",
        "                                        idx_filter=self.reference_sample_idx)\n",
        "        return dataset, self.reference_sample_idx\n",
        "\n",
        "    def get_mislabeled(self):\n",
        "        \"\"\"\n",
        "\n",
        "        :return: list(mislabel indexes of image in dataset)\n",
        "        \"\"\"\n",
        "        threshold = self.get_reference_aum_threshold()\n",
        "\n",
        "        # reference_aum = self.hist_delta_AUM[:,self.reference_sample_idx,:]\n",
        "        # reference_aum = torch.tensor(reference_aum)\n",
        "        reference_aum = torch.tensor(self.hist_delta_AUM)\n",
        "        reference_aum = reference_aum[..., 0] - reference_aum[..., 1]\n",
        "        reference_aum = torch.tensor(reference_aum).mean(dim=0)\n",
        "        # print(\"reference_aum.shape\",reference_aum.shape)\n",
        "        mislabeled = (reference_aum < threshold).nonzero().tolist()\n",
        "        # print(\"mislabeled\",mislabeled)\n",
        "        mislabeled = [el for el in mislabeled if el not in self.reference_sample_idx]\n",
        "        # print(\"mislabeled\",mislabeled)\n",
        "        print(\"percentage of mislabeled\", len(mislabeled) / (len(reference_aum) - len(self.reference_sample_idx)),\n",
        "              len(mislabeled), len(reference_aum), len(self.reference_sample_idx))\n",
        "        return mislabeled\n",
        "\n",
        "    def get_hist(self):\n",
        "        \"\"\"\n",
        "        To be use to visualize the results. After the training or after each epoch\n",
        "        \"\"\"\n",
        "        sample_1 = random.randint(0, self.hist_delta_AUM.shape[1])\n",
        "        sample_2 = random.randint(0, self.hist_delta_AUM.shape[1])\n",
        "        sample_3 = random.randint(0, self.hist_delta_AUM.shape[1])\n",
        "        sample_4 = random.randint(0, self.hist_delta_AUM.shape[1])\n",
        "        sample_5 = random.randint(0, self.hist_delta_AUM.shape[1])\n",
        "\n",
        "        sample_1 = self.hist_delta_AUM[:, sample_1, :]\n",
        "        sample_2 = self.hist_delta_AUM[:, sample_2, :]\n",
        "        sample_3 = self.hist_delta_AUM[:, sample_3, :]\n",
        "        sample_4 = self.hist_delta_AUM[:, sample_4, :]\n",
        "        sample_5 = self.hist_delta_AUM[:, sample_5, :]\n",
        "\n",
        "        plt.figure()\n",
        "        plt.subplot(511)\n",
        "        plt.plot(sample_1)\n",
        "        plt.subplot(512)\n",
        "        plt.plot(sample_2)\n",
        "        plt.subplot(513)\n",
        "        plt.plot(sample_3)\n",
        "        plt.subplot(514)\n",
        "        plt.plot(sample_4)\n",
        "        plt.subplot(515)\n",
        "        plt.plot(sample_5)\n",
        "        plt.show()"
      ],
      "execution_count": 0,
      "outputs": []
    },
    {
      "cell_type": "code",
      "metadata": {
        "id": "yF54m6SetY8J",
        "colab_type": "code",
        "colab": {}
      },
      "source": [
        "import json\n",
        "\n",
        "# global num_epochs, ds\n",
        "\n",
        "\n",
        "def train(model, optimizer, criterion, train_loader, device ='cuda', **kwargs):\n",
        "    \"\"\" On one epoch \"\"\"\n",
        "\n",
        "    global global_step\n",
        "    model.train()\n",
        "    time_spent = 0\n",
        "    with tqdm.tqdm(total=len(train_loader), leave=False, desc=\"Iterations\") as pbar:\n",
        "      for idx, (x, y) in enumerate(train_loader):\n",
        "            optimizer.zero_grad()    \n",
        "            x, y = x.to(device), y.to(device)\n",
        "            loss = None\n",
        "            \n",
        "            # torch.cuda.synchronize()\n",
        "            epoch_start_time = time.perf_counter()\n",
        "\n",
        "            loss=0\n",
        "            y_pred = model(x)\n",
        "\n",
        "            img_id = range(idx,idx+len(x))\n",
        "            l = []\n",
        "            for i in img_id:\n",
        "              l.append(i)\n",
        "            img_id = torch.tensor(img_id).to(device)\n",
        "            aum.accumulate(y_pred, img_id, y)\n",
        "\n",
        "            not_reduced_loss = criterion(y_pred, y)\n",
        "            loss += not_reduced_loss.mean()\n",
        "            loss.backward()        \n",
        "\n",
        "            optimizer.step()\n",
        "            # torch.cuda.synchronize()\n",
        "            epoch_end_time = time.perf_counter()\n",
        "            time_spent += epoch_end_time-epoch_start_time\n",
        "\n",
        "            if loss is not None:\n",
        "                pbar.set_postfix(loss=loss.item(), lr=optimizer.param_groups[0]['lr'])\n",
        "                writer.add_scalar(\"Train/batch loss\", loss.item(), global_step)\n",
        "            \n",
        "            pbar.update()\n",
        "            global_step += 1\n",
        "    logger.info(\"Time spent {:.2f}s\".format(time_spent))\n",
        "    aum.accumulate_epoch()\n",
        "    aum.get_hist()\n",
        "    print(\"aum.get_mislabeled() first 10 are:\",aum.get_mislabeled()[0:10])\n",
        "    print(\"aum.get_reference_aum_threshold()\", aum.get_reference_aum_threshold())\n",
        "\n",
        "    return time_spent\n",
        "  \n",
        "def test(model, test_loader, prefix=\"Test\", global_step=None, device='cuda'):\n",
        "    \"\"\" On one epoch \"\"\"\n",
        "\n",
        "    num_correct = 0\n",
        "    num_samples = 0\n",
        "    model.eval()\n",
        "    with torch.no_grad():\n",
        "        for x, y in test_loader:\n",
        "            x, y = x.to(device), y.to(device)\n",
        "            y_pred = model(x)            \n",
        "            y_pred = torch.argmax(y_pred, dim=1)\n",
        "            num_correct += torch.eq(y_pred, y).sum().item()\n",
        "            num_samples += y.shape[0]\n",
        "        \n",
        "        accuracy = num_correct * 1.0 / num_samples\n",
        "        print(f\"{prefix} accuracy: {accuracy}\")\n",
        "        \n",
        "        writer.add_scalar(f\"{prefix}/accuracy\", accuracy, global_step)\n",
        "    return accuracy\n",
        "    \n",
        "def init_exp(device='cuda', img_size=32, batch_size=512, lr_policy=\"ReduceLROnPlateau\", keep_ds_frac=1.0):\n",
        "  \"\"\" Init one experiment \"\"\"\n",
        "\n",
        "  now = datetime.now()\n",
        "  global writer\n",
        "  writer = SummaryWriter(logdir=f\"/tmp/tb_logs/{now.strftime('%Y%m%d-%H%M%S')}\")\n",
        "  global global_step\n",
        "  global_step = 0\n",
        "\n",
        "  SEED=2019\n",
        "  random.seed(SEED)\n",
        "  torch.manual_seed(SEED)\n",
        "  np.random.seed(SEED)\n",
        "\n",
        "  global num_epochs, ds\n",
        "  if ds == 'CIFAR':\n",
        "    num_workers = 0\n",
        "    mean_std = ([0.4914, 0.4822, 0.4465], [0.247, 0.243, 0.261]) # CIFAR-10\n",
        "    num_epochs = 25\n",
        "\n",
        "    # Setup dataflow\n",
        "    train_transform = Compose([\n",
        "        Pad(4),\n",
        "        RandomCrop(32),\n",
        "        RandomHorizontalFlip(),\n",
        "        RandomErasingPIL(),\n",
        "        Resize(img_size),\n",
        "        ToTensor(),\n",
        "        Normalize(*mean_std)\n",
        "    ])\n",
        "\n",
        "\n",
        "    test_transform = Compose([Resize(img_size),\n",
        "                              ToTensor(), \n",
        "                              Normalize(*mean_std) ])\n",
        "\n",
        "    class ShortenCIFAR(CIFAR10):\n",
        "      def __len__(self):\n",
        "        return int(len(self.data) * keep_ds_frac)\n",
        "\n",
        "    train_ds = ShortenCIFAR(root=\"/tmp/cifar10\", train=True, download=True, transform=train_transform)\n",
        "\n",
        "    global aum, n_classes\n",
        "    aum = AreaUnderTheMarginRanking()\n",
        "    train_ds, reference_class_sample_idx = aum.add_reference_class_to_ds(dataset=train_ds, n_class=n_classes)\n",
        "    n_classes += 1 \n",
        "\n",
        "    train_loader = DataLoader(train_ds, \n",
        "                            batch_size=batch_size, num_workers=num_workers, \n",
        "                            pin_memory=False, shuffle=False, drop_last=False)\n",
        "    \n",
        "    val_ds = ShortenCIFAR(root=\"/tmp/cifar10\", train=False, download=False, transform=test_transform)\n",
        "    test_loader = DataLoader(val_ds, \n",
        "                          batch_size=batch_size, num_workers=num_workers, \n",
        "                          pin_memory=False, shuffle=False, drop_last=False)\n",
        "\n",
        "\n",
        "  model = resnet18(pretrained=True).to(device)\n",
        "  model.conv1 = nn.Conv2d(3, 64, kernel_size=3, stride=1, padding=1,bias=False)\n",
        "  model.maxpool = nn.MaxPool2d(kernel_size=1, stride=1, padding=0) # Identity\n",
        "  model.fc = torch.nn.Linear(512, n_classes)\n",
        "  model = model.to(device)\n",
        "  \n",
        "  lr = 0.01\n",
        "  optimizer = optim.SGD(model.parameters(), lr=lr, momentum=0.9, nesterov=True)\n",
        "  if lr_policy == 'ReduceLROnPlateau':\n",
        "    lr_scheduler = lrs.ReduceLROnPlateau(optimizer, mode='max')\n",
        "  elif lr_policy == 'OneCycleLR' :\n",
        "    lr_scheduler = lrs.OneCycleLR(optimizer, max_lr=0.1, total_steps=num_epochs, pct_start=6/num_epochs)\n",
        "  criterion = nn.CrossEntropyLoss(reduction='none').to(device)\n",
        "\n",
        "  return model, optimizer, lr_scheduler, criterion, train_loader, test_loader\n",
        "\n",
        "\n",
        "def run_one_exp(n_epochs, img_size, batch_size, lr_policy, keep_ds_frac, device, **kwargs):\n",
        "  \"\"\" Run a grid of experiments \"\"\"\n",
        "\n",
        "  results = {}\n",
        "  # The grid\n",
        "\n",
        "\n",
        "  # One experiment\n",
        "  # Init\n",
        "  print('\\n')\n",
        "  model, optimizer, lr_scheduler, criterion, train_loader, test_loader = init_exp(img_size=img_size, \n",
        "                                                                                  batch_size=batch_size, lr_policy=lr_policy, keep_ds_frac=keep_ds_frac,\n",
        "                                                                                  device=device) \n",
        "  # Train\n",
        "  time_spent = 0\n",
        "  for i in range(n_epochs):\n",
        "    time_spent += train(model, optimizer, criterion, train_loader, device=device, **kwargs)\n",
        "    acc_train = test(model, train_loader, prefix=\"Train\", global_step=0, device=device) \n",
        "    acc_test = test(model, test_loader, prefix=\"Test\", global_step=0, device=device) \n",
        "    lr_scheduler.step(acc_test)\n",
        "  aum.get_hist()\n",
        "\n",
        "  # Save results & display all performances from start\n",
        "  results['only result'] = \"time_spent: {:.2f}s acc_train: {:.2f} acc_test: {:.2f}\".format(time_spent, acc_train, acc_test)\n",
        "  pprint.pprint(results, width=1)"
      ],
      "execution_count": 0,
      "outputs": []
    },
    {
      "cell_type": "markdown",
      "metadata": {
        "id": "ZIH_Usu2AfhH",
        "colab_type": "text"
      },
      "source": [
        "# Benchmarking Accuracy"
      ]
    },
    {
      "cell_type": "code",
      "metadata": {
        "id": "ezumhzkX0g5h",
        "colab_type": "code",
        "outputId": "9594723a-fe74-4104-c1b9-0924b84d35ee",
        "colab": {
          "base_uri": "https://localhost:8080/",
          "height": 1000
        }
      },
      "source": [
        "# n_steps = 20\n",
        "n_classes = 10\n",
        "n_input_ch = 3\n",
        "\n",
        "img_size = 32 \n",
        "batch_size = 256\n",
        "\n",
        "ds = 'CIFAR'\n",
        "accuracy_test = True\n",
        "\n",
        "# Exp on CIFAR10\n",
        "# n Epochs => % of data to remove\n",
        "# 20E => 26% ?\n",
        "# 30E => 19%\n",
        "# 60E => 17% ?\n",
        "run_one_exp(n_epochs=60, img_size=img_size, batch_size=batch_size, lr_policy=\"OneCycleLR\", keep_ds_frac=1.0, device='cuda')"
      ],
      "execution_count": 0,
      "outputs": [
        {
          "output_type": "stream",
          "text": [
            "\n",
            "\n",
            "Files already downloaded and verified\n",
            "select n_reference_sample 4545\n"
          ],
          "name": "stdout"
        },
        {
          "output_type": "stream",
          "text": [
            "2020-02-06 10:43:32.509 | INFO     | __main__:train:46 - Time spent 25.92s\n"
          ],
          "name": "stderr"
        },
        {
          "output_type": "display_data",
          "data": {
            "image/png": "[encoded data removed]",
            "text/plain": [
              "<Figure size 432x288 with 5 Axes>"
            ]
          },
          "metadata": {
            "tags": []
          }
        },
        {
          "output_type": "stream",
          "text": [
            "/usr/local/lib/python3.6/dist-packages/ipykernel_launcher.py:74: UserWarning: To copy construct from a tensor, it is recommended to use sourceTensor.clone().detach() or sourceTensor.clone().detach().requires_grad_(True), rather than torch.tensor(sourceTensor).\n",
            "/usr/local/lib/python3.6/dist-packages/ipykernel_launcher.py:129: UserWarning: To copy construct from a tensor, it is recommended to use sourceTensor.clone().detach() or sourceTensor.clone().detach().requires_grad_(True), rather than torch.tensor(sourceTensor).\n",
            "/usr/local/lib/python3.6/dist-packages/ipykernel_launcher.py:131: UserWarning: To copy construct from a tensor, it is recommended to use sourceTensor.clone().detach() or sourceTensor.clone().detach().requires_grad_(True), rather than torch.tensor(sourceTensor).\n"
          ],
          "name": "stderr"
        },
        {
          "output_type": "stream",
          "text": [
            "percentage of mislabeled 0.6266417335826642 28484 50000 4545\n",
            "aum.get_mislabeled() [[0], [2], [3], [4], [5], [6], [7], [8], [9], [10]]\n",
            "aum.get_reference_aum_threshold() tensor(0.3553)\n",
            "Train accuracy: 0.63174\n"
          ],
          "name": "stdout"
        },
        {
          "output_type": "stream",
          "text": [
            "\rIterations:   0%|          | 0/196 [00:00<?, ?it/s]"
          ],
          "name": "stderr"
        },
        {
          "output_type": "stream",
          "text": [
            "Test accuracy: 0.7473\n"
          ],
          "name": "stdout"
        },
        {
          "output_type": "stream",
          "text": [
            "2020-02-06 10:45:04.862 | INFO     | __main__:train:46 - Time spent 25.45s\n"
          ],
          "name": "stderr"
        },
        {
          "output_type": "display_data",
          "data": {
            "image/png": "[encoded data removed]",
            "text/plain": [
              "<Figure size 432x288 with 5 Axes>"
            ]
          },
          "metadata": {
            "tags": []
          }
        },
        {
          "output_type": "stream",
          "text": [
            "percentage of mislabeled 0.35551644483555167 16160 50000 4545\n",
            "aum.get_mislabeled() [[2], [9], [13], [15], [17], [19], [25], [27], [29], [35]]\n",
            "aum.get_reference_aum_threshold() tensor(-0.2157)\n",
            "Train accuracy: 0.68534\n"
          ],
          "name": "stdout"
        },
        {
          "output_type": "stream",
          "text": [
            "\rIterations:   0%|          | 0/196 [00:00<?, ?it/s]"
          ],
          "name": "stderr"
        },
        {
          "output_type": "stream",
          "text": [
            "Test accuracy: 0.7751\n"
          ],
          "name": "stdout"
        },
        {
          "output_type": "stream",
          "text": [
            "2020-02-06 10:46:36.103 | INFO     | __main__:train:46 - Time spent 25.47s\n"
          ],
          "name": "stderr"
        },
        {
          "output_type": "display_data",
          "data": {
            "image/png": "[encoded data removed]",
            "text/plain": [
              "<Figure size 432x288 with 5 Axes>"
            ]
          },
          "metadata": {
            "tags": []
          }
        },
        {
          "output_type": "stream",
          "text": [
            "percentage of mislabeled 0.2627213727862721 11942 50000 4545\n",
            "aum.get_mislabeled() [[9], [13], [17], [19], [22], [25], [27], [35], [38], [39]]\n",
            "aum.get_reference_aum_threshold() tensor(-0.4070)\n",
            "Train accuracy: 0.74154\n"
          ],
          "name": "stdout"
        },
        {
          "output_type": "stream",
          "text": [
            "\rIterations:   0%|          | 0/196 [00:00<?, ?it/s]"
          ],
          "name": "stderr"
        },
        {
          "output_type": "stream",
          "text": [
            "Test accuracy: 0.7929\n"
          ],
          "name": "stdout"
        },
        {
          "output_type": "stream",
          "text": [
            "2020-02-06 10:48:05.282 | INFO     | __main__:train:46 - Time spent 25.07s\n"
          ],
          "name": "stderr"
        },
        {
          "output_type": "display_data",
          "data": {
            "image/png": "[encoded data removed]",
            "text/plain": [
              "<Figure size 432x288 with 5 Axes>"
            ]
          },
          "metadata": {
            "tags": []
          }
        },
        {
          "output_type": "stream",
          "text": [
            "percentage of mislabeled 0.21865581344186558 9939 50000 4545\n",
            "aum.get_mislabeled() [[9], [17], [25], [35], [39], [46], [47], [50], [51], [56]]\n",
            "aum.get_reference_aum_threshold() tensor(-0.5059)\n",
            "Train accuracy: 0.76356\n"
          ],
          "name": "stdout"
        },
        {
          "output_type": "stream",
          "text": [
            "\rIterations:   0%|          | 0/196 [00:00<?, ?it/s]"
          ],
          "name": "stderr"
        },
        {
          "output_type": "stream",
          "text": [
            "Test accuracy: 0.8221\n"
          ],
          "name": "stdout"
        },
        {
          "output_type": "stream",
          "text": [
            "2020-02-06 10:49:35.231 | INFO     | __main__:train:46 - Time spent 25.14s\n"
          ],
          "name": "stderr"
        },
        {
          "output_type": "display_data",
          "data": {
            "image/png": "[encoded data removed]",
            "text/plain": [
              "<Figure size 432x288 with 5 Axes>"
            ]
          },
          "metadata": {
            "tags": []
          }
        },
        {
          "output_type": "stream",
          "text": [
            "percentage of mislabeled 0.1959960400395996 8909 50000 4545\n",
            "aum.get_mislabeled() [[9], [17], [25], [35], [39], [46], [47], [51], [56], [64]]\n",
            "aum.get_reference_aum_threshold() tensor(-0.5456)\n",
            "Train accuracy: 0.79396\n"
          ],
          "name": "stdout"
        },
        {
          "output_type": "stream",
          "text": [
            "\rIterations:   0%|          | 0/196 [00:00<?, ?it/s]"
          ],
          "name": "stderr"
        },
        {
          "output_type": "stream",
          "text": [
            "Test accuracy: 0.8532\n"
          ],
          "name": "stdout"
        },
        {
          "output_type": "stream",
          "text": [
            "2020-02-06 10:51:03.920 | INFO     | __main__:train:46 - Time spent 25.07s\n"
          ],
          "name": "stderr"
        },
        {
          "output_type": "display_data",
          "data": {
            "image/png": "[encoded data removed]",
            "text/plain": [
              "<Figure size 432x288 with 5 Axes>"
            ]
          },
          "metadata": {
            "tags": []
          }
        },
        {
          "output_type": "stream",
          "text": [
            "percentage of mislabeled 0.17918820811791883 8145 50000 4545\n",
            "aum.get_mislabeled() [[9], [17], [25], [35], [39], [46], [47], [51], [56], [64]]\n",
            "aum.get_reference_aum_threshold() tensor(-0.5961)\n",
            "Train accuracy: 0.7814\n"
          ],
          "name": "stdout"
        },
        {
          "output_type": "stream",
          "text": [
            "\rIterations:   0%|          | 0/196 [00:00<?, ?it/s]"
          ],
          "name": "stderr"
        },
        {
          "output_type": "stream",
          "text": [
            "Test accuracy: 0.8218\n"
          ],
          "name": "stdout"
        },
        {
          "output_type": "stream",
          "text": [
            "Iterations:  44%|████▍     | 86/196 [00:25<00:33,  3.26it/s, loss=0.53, lr=0.0103]"
          ],
          "name": "stderr"
        }
      ]
    }
  ]
}